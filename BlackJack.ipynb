{
 "cells": [
  {
   "cell_type": "code",
   "execution_count": 1,
   "metadata": {},
   "outputs": [],
   "source": [
    "#Player has a bank balance attribute\n",
    "#Place a bet\n",
    "#2 cards face up (player), 1 card up 1 down(dealer)\n",
    "#goal is to get closer to 21 than the dealer\n",
    "\n",
    "#IGNORE INSURANCE, SPLIT AND DOUBLE DOWN\n",
    "\n",
    "#Player can either HIT (take a card from the deck, to get the value closer to 21)\n",
    "#or \n",
    "#Can STAY (Stop receiving card)\n",
    "\n",
    "#Once player has completed turn, the dealer comes in\n",
    "\n",
    "#If player is still <21, the dealer hits until he beats the player, or he BUST (>21)\n",
    "\n",
    "#If player keeps hitting before dealer's turn and they BUST, they lose the bet. GAME OVER, dealer collects the money\n",
    "#If player STAYS and is <21, dealer goes, and keeps hitting until until STAY. If sum is P< but <21, dealer wins\n",
    "\n",
    "#If dealer keeps hitting until they bust, the Player wins, doubles the money"
   ]
  },
  {
   "cell_type": "code",
   "execution_count": 2,
   "metadata": {},
   "outputs": [],
   "source": [
    "#Face cards have a value of 10\n",
    "#Ace should be either 1 or 11, based on the preference of the player"
   ]
  },
  {
   "cell_type": "code",
   "execution_count": null,
   "metadata": {},
   "outputs": [],
   "source": []
  },
  {
   "cell_type": "code",
   "execution_count": null,
   "metadata": {},
   "outputs": [],
   "source": []
  },
  {
   "cell_type": "code",
   "execution_count": 1,
   "metadata": {},
   "outputs": [],
   "source": [
    "import random\n",
    "\n",
    "suits = ('Hearts', 'Diamonds', 'Spades', 'Clubs')\n",
    "ranks = ('Two', 'Three', 'Four', 'Five', 'Six', 'Seven', 'Eight', 'Nine', 'Ten', 'Jack', 'Queen', 'King', 'Ace')\n",
    "values = {'Two':2, 'Three':3, 'Four':4, 'Five':5, 'Six':6, 'Seven':7, 'Eight':8, 'Nine':9, 'Ten':10, 'Jack':10,\n",
    "         'Queen':10, 'King':10, 'Ace':11}\n",
    "\n",
    "play = True"
   ]
  },
  {
   "cell_type": "code",
   "execution_count": null,
   "metadata": {},
   "outputs": [],
   "source": []
  },
  {
   "cell_type": "code",
   "execution_count": null,
   "metadata": {},
   "outputs": [],
   "source": []
  },
  {
   "cell_type": "code",
   "execution_count": 2,
   "metadata": {},
   "outputs": [],
   "source": [
    "#card class\n",
    "\n",
    "#suit of the card\n",
    "#rank of the card\n",
    "#integer value corresponding to the rank\n",
    "\n",
    "class Card:\n",
    "    \n",
    "    def __init__(self,suit,rank):\n",
    "        self.suit = suit\n",
    "        self.rank = rank\n",
    "        self.value = values[rank]\n",
    "        \n",
    "    def __str__(self):\n",
    "        return self.rank + ' of ' + self.suit"
   ]
  },
  {
   "cell_type": "code",
   "execution_count": 3,
   "metadata": {},
   "outputs": [],
   "source": [
    "mycard = Card('Spades','Two')"
   ]
  },
  {
   "cell_type": "code",
   "execution_count": 4,
   "metadata": {},
   "outputs": [
    {
     "name": "stdout",
     "output_type": "stream",
     "text": [
      "Two of Spades\n"
     ]
    }
   ],
   "source": [
    "print(mycard)"
   ]
  },
  {
   "cell_type": "code",
   "execution_count": null,
   "metadata": {},
   "outputs": [],
   "source": []
  },
  {
   "cell_type": "code",
   "execution_count": 5,
   "metadata": {},
   "outputs": [],
   "source": [
    "#Deck class\n",
    "\n",
    "#instantiate a new deck\n",
    "#shuffle the deck\n",
    "#hold the cards as a list of new objects\n",
    "#deal out a card, one at a time\n",
    "\n",
    "class Deck:\n",
    "    \n",
    "    def __init__(self):\n",
    "        \n",
    "        self.deck = []                      #empty list to accomodate card objects\n",
    "        \n",
    "        for suit in suits:\n",
    "            for rank in ranks:\n",
    "                card = Card(suit,rank)           #create a new card\n",
    "                self.deck.append(card)      #append the list with all new cards from each rank and suit\n",
    "                \n",
    "    def shuffle_deck(self):\n",
    "        \n",
    "        random.shuffle(self.deck)\n",
    "        \n",
    "    def deal(self):\n",
    "        \n",
    "        return self.deck.pop()\n",
    "        \n",
    "    def __str__(self):\n",
    "        \n",
    "        deck_con = ''\n",
    "        \n",
    "        for card in self.deck:\n",
    "            deck_con += '\\n'+card.__str__()\n",
    "            \n",
    "        return 'The deck has:'+deck_con"
   ]
  },
  {
   "cell_type": "code",
   "execution_count": 6,
   "metadata": {},
   "outputs": [],
   "source": [
    "mydeck = Deck()"
   ]
  },
  {
   "cell_type": "code",
   "execution_count": 7,
   "metadata": {},
   "outputs": [],
   "source": [
    "mydeck.shuffle_deck()"
   ]
  },
  {
   "cell_type": "code",
   "execution_count": 8,
   "metadata": {},
   "outputs": [],
   "source": [
    "new_card = mydeck.deal()"
   ]
  },
  {
   "cell_type": "code",
   "execution_count": 9,
   "metadata": {},
   "outputs": [
    {
     "name": "stdout",
     "output_type": "stream",
     "text": [
      "Ace of Spades\n"
     ]
    }
   ],
   "source": [
    "print(new_card)"
   ]
  },
  {
   "cell_type": "code",
   "execution_count": null,
   "metadata": {},
   "outputs": [],
   "source": []
  },
  {
   "cell_type": "code",
   "execution_count": null,
   "metadata": {},
   "outputs": [],
   "source": []
  },
  {
   "cell_type": "code",
   "execution_count": 10,
   "metadata": {},
   "outputs": [],
   "source": [
    "#Hand class\n",
    "\n",
    "#hold card objects dealt from the deck\n",
    "#calculate values of those cards depending on the dictionary\n",
    "#adjust value of Ace as required\n",
    "\n",
    "class Hand:\n",
    "    \n",
    "    def __init__(self):\n",
    "        \n",
    "        self.card = []\n",
    "        self.value = 0\n",
    "        self.aces = 0\n",
    "        \n",
    "    def add_card(self,card):                  #we'll calll the Deck.deal() fn before using this add_card() fn\n",
    "        \n",
    "        self.card.append(card)\n",
    "        self.value += values[card.rank]\n",
    "        \n",
    "        if card.rank == 'Ace':\n",
    "            self.aces += 1\n",
    "        \n",
    "    def ace(self):\n",
    "        \n",
    "        while self.value>21 and self.aces:\n",
    "            self.value -= 10                  #change value of ace from 11 to 1\n",
    "            self.aces -= 1"
   ]
  },
  {
   "cell_type": "code",
   "execution_count": 11,
   "metadata": {},
   "outputs": [],
   "source": [
    "tdeck = Deck()"
   ]
  },
  {
   "cell_type": "code",
   "execution_count": 12,
   "metadata": {},
   "outputs": [
    {
     "name": "stdout",
     "output_type": "stream",
     "text": [
      "Ten of Diamonds\n",
      "10\n"
     ]
    }
   ],
   "source": [
    "tdeck.shuffle_deck()\n",
    "\n",
    "newcard = tdeck.deal()\n",
    "print(newcard)\n",
    "player = Hand()\n",
    "\n",
    "player.add_card(newcard)\n",
    "\n",
    "print(player.value)"
   ]
  },
  {
   "cell_type": "code",
   "execution_count": 13,
   "metadata": {},
   "outputs": [
    {
     "name": "stdout",
     "output_type": "stream",
     "text": [
      "17\n"
     ]
    }
   ],
   "source": [
    "player.add_card(tdeck.deal())\n",
    "\n",
    "print(player.value)"
   ]
  },
  {
   "cell_type": "code",
   "execution_count": null,
   "metadata": {},
   "outputs": [],
   "source": []
  },
  {
   "cell_type": "code",
   "execution_count": null,
   "metadata": {},
   "outputs": [],
   "source": []
  },
  {
   "cell_type": "code",
   "execution_count": 14,
   "metadata": {},
   "outputs": [],
   "source": [
    "#Chips class\n",
    "\n",
    "#increase/decrease money according to win/loss respectively\n",
    "\n",
    "class Chips:\n",
    "    \n",
    "    def __init__(self,bank=1000):\n",
    "        \n",
    "        self.bank = bank\n",
    "        self.bet = 0\n",
    "        \n",
    "    def add(self):\n",
    "        \n",
    "        self.bank += self.bet\n",
    "        \n",
    "    def minus(self):\n",
    "        \n",
    "        self.bank -= self.bet"
   ]
  },
  {
   "cell_type": "code",
   "execution_count": 15,
   "metadata": {},
   "outputs": [],
   "source": [
    "#fn to place bet\n",
    "\n",
    "def bet(chips):             #chips is an object of class Chips\n",
    "    \n",
    "    while True:\n",
    "        \n",
    "        try:\n",
    "            chips.bet = int(input('Place your bet: '))\n",
    "        except:\n",
    "            print('Sorry! The value of chips must be an integer!')\n",
    "        else:\n",
    "            if chips.bet>chips.bank:\n",
    "                print(f'Not enough chips! You have {chips.bank}')\n",
    "            else:\n",
    "                break"
   ]
  },
  {
   "cell_type": "code",
   "execution_count": null,
   "metadata": {},
   "outputs": [],
   "source": []
  },
  {
   "cell_type": "code",
   "execution_count": 16,
   "metadata": {},
   "outputs": [],
   "source": [
    "#fn for hits\n",
    "\n",
    "def player_hit(deck,hand):\n",
    "    \n",
    "    hand.add_card(deck.deal())\n",
    "    hand.ace()"
   ]
  },
  {
   "cell_type": "code",
   "execution_count": null,
   "metadata": {},
   "outputs": [],
   "source": []
  },
  {
   "cell_type": "code",
   "execution_count": 17,
   "metadata": {},
   "outputs": [],
   "source": [
    "#fn to ask for hit or stand, and work accordingly\n",
    "\n",
    "def hit_stand(hand,deck):\n",
    "    \n",
    "    global play                              #to control the while loop in the main function easily\n",
    "    \n",
    "    while True:\n",
    "        \n",
    "        x = input('\\nHIT or STAND? Enter H or S:')\n",
    "        \n",
    "        if x.upper() == 'H':\n",
    "            player_hit(deck,hand)\n",
    "            \n",
    "        elif x.upper() == 'S':\n",
    "            print('\\nPlayer STANDS! \\nDealer plays now!')\n",
    "            play = False\n",
    "        \n",
    "        else:\n",
    "            print('Wrong Input! Please try again...')\n",
    "            continue\n",
    "            \n",
    "        break       "
   ]
  },
  {
   "cell_type": "code",
   "execution_count": null,
   "metadata": {},
   "outputs": [],
   "source": []
  },
  {
   "cell_type": "code",
   "execution_count": 18,
   "metadata": {},
   "outputs": [],
   "source": [
    "#fn to display cards at the beginning\n",
    "\n",
    "def show_start(player,dealer):\n",
    "    \n",
    "    #show only one of dealer's cards\n",
    "    print(\"\\nDealer's Hand:\")\n",
    "    print('First Card Hidden')\n",
    "    print(dealer.card[1])\n",
    "    \n",
    "    #show all player's cards\n",
    "    print(\"\\nPlayer's Hand:\")\n",
    "    for n in player.card:\n",
    "        print(n)"
   ]
  },
  {
   "cell_type": "code",
   "execution_count": 19,
   "metadata": {},
   "outputs": [],
   "source": [
    "#fn to display cards at the end of hand\n",
    "\n",
    "def show_end(player,dealer):\n",
    "    \n",
    "    #show all cards of dealer with values\n",
    "    print(\"\\nDealer's Hand:\")\n",
    "    for n in dealer.card:\n",
    "        print(n)\n",
    "    print(f\"Value of dealer's hand: {dealer.value}\")\n",
    "    \n",
    "    #show all cards of player with values\n",
    "    print(\"\\nPlayer's Hand:\")\n",
    "    for n in player.card:\n",
    "        print(n)\n",
    "    print(f\"Value of player's hand: {player.value}\")"
   ]
  },
  {
   "cell_type": "code",
   "execution_count": null,
   "metadata": {},
   "outputs": [],
   "source": []
  },
  {
   "cell_type": "code",
   "execution_count": 20,
   "metadata": {},
   "outputs": [],
   "source": [
    "#fn to deal with each situation \n",
    "\n",
    "#player win\n",
    "#player bust\n",
    "#dealer win\n",
    "#dealer bust \n",
    "#PUSH (both get the same value)\n",
    "\n",
    "def player_win(player,dealer,chips):\n",
    "    print('\\nPlayer wins!')\n",
    "    chips.add()\n",
    "    \n",
    "def player_bust(player,dealer,chips):\n",
    "    print('\\nPlayer busts! Dealer wins!')\n",
    "    chips.minus()\n",
    "    \n",
    "def dealer_win(player,dealer,chips):\n",
    "    print('\\nDealer wins!')\n",
    "    chips.minus()\n",
    "    \n",
    "def dealer_bust(player,dealer,chips):\n",
    "    print('\\nDealer busts! Player wins!')\n",
    "    chips.add()\n",
    "    \n",
    "def push(player,dealer):\n",
    "    print('\\nTIE! PUSH!')"
   ]
  },
  {
   "cell_type": "code",
   "execution_count": null,
   "metadata": {},
   "outputs": [],
   "source": [
    " "
   ]
  },
  {
   "cell_type": "code",
   "execution_count": null,
   "metadata": {},
   "outputs": [],
   "source": []
  },
  {
   "cell_type": "code",
   "execution_count": null,
   "metadata": {},
   "outputs": [],
   "source": []
  },
  {
   "cell_type": "code",
   "execution_count": null,
   "metadata": {},
   "outputs": [
    {
     "name": "stdout",
     "output_type": "stream",
     "text": [
      "Welcome to BLACKJACK!!!\n",
      "\n",
      "\n",
      "Your starting balance is: 1000\n",
      "Place your bet: 250\n",
      "\n",
      "Dealer's Hand:\n",
      "First Card Hidden\n",
      "Two of Spades\n",
      "\n",
      "Player's Hand:\n",
      "Four of Clubs\n",
      "Two of Clubs\n",
      "\n",
      "HIT or STAND? Enter H or S:H\n",
      "\n",
      "Dealer's Hand:\n",
      "First Card Hidden\n",
      "Two of Spades\n",
      "\n",
      "Player's Hand:\n",
      "Four of Clubs\n",
      "Two of Clubs\n",
      "Queen of Diamonds\n",
      "\n",
      "HIT or STAND? Enter H or S:S\n",
      "\n",
      "Player STANDS! \n",
      "Dealer plays now!\n",
      "\n",
      "Dealer's Hand:\n",
      "First Card Hidden\n",
      "Two of Spades\n",
      "\n",
      "Player's Hand:\n",
      "Four of Clubs\n",
      "Two of Clubs\n",
      "Queen of Diamonds\n",
      "\n",
      "Dealer's Hand:\n",
      "Ace of Spades\n",
      "Two of Spades\n",
      "Four of Spades\n",
      "Value of dealer's hand: 17\n",
      "\n",
      "Player's Hand:\n",
      "Four of Clubs\n",
      "Two of Clubs\n",
      "Queen of Diamonds\n",
      "Value of player's hand: 16\n",
      "\n",
      "Dealer wins! Player busted!\n",
      "\n",
      "Total chips now: 750\n"
     ]
    }
   ],
   "source": [
    "#Actual game\n",
    "player_chips = Chips()\n",
    "\n",
    "while True:\n",
    "    \n",
    "    print('Welcome to BLACKJACK!!!\\n\\n')\n",
    "    \n",
    "    deck = Deck()                               \n",
    "    deck.shuffle_deck()                           #create a new shuffled deck\n",
    "    \n",
    "    player,dealer = Hand(),Hand()\n",
    "    player.add_card(deck.deal())\n",
    "    player.add_card(deck.deal())                  #add 2 cards on player's hand\n",
    "    dealer.add_card(deck.deal())\n",
    "    dealer.add_card(deck.deal())                  #add 2 cards on dealer's hand\n",
    "    \n",
    "    print(f'Your starting balance is: {player_chips.bank}')\n",
    "    bet(player_chips)                             #place bet\n",
    "    \n",
    "    show_start(player,dealer)                     #show both cards (dealer - only one)\n",
    "    \n",
    "    while play:\n",
    "        hit_stand(player,deck)               #ask player to hit or stand (if player stands, the 'break' in the fn affects here)\n",
    "        show_start(player,dealer)                 #show the cards after each hit\n",
    "        \n",
    "        if player.value > 21:                     #player busts\n",
    "            player_bust(player,dealer,player_chips)\n",
    "            break\n",
    "    \n",
    "    if player.value <= 21:                        #player stands\n",
    "        while dealer.value < 17:                  #soft 17 rule\n",
    "            player_hit(deck,dealer)               \n",
    "        show_end(player,dealer)                   #show all cards after dealer stops hitting\n",
    "        \n",
    "        #Running different scenarios\n",
    "        if dealer.value > 21:\n",
    "            dealer_bust(player,dealer,player_chips)\n",
    "            \n",
    "        elif dealer.value > player.value:\n",
    "            dealer_win(player,dealer,player_chips)\n",
    "            \n",
    "        elif dealer.value < player.value:\n",
    "            player_win(player,dealer,player_chips)\n",
    "            \n",
    "        else:\n",
    "            push(player,dealer)                    #deal again\n",
    "            \n",
    "    print(f'\\nTotal chips now: {player_chips.bank}')    #print new bank value\n",
    "    \n",
    "    #Ask to play again\n",
    "    new = input('\\nWant to play again (Y/N)? ')\n",
    "    \n",
    "    if new.upper() == 'Y':\n",
    "        play = True\n",
    "        print('\\n\\n\\n')\n",
    "        continue\n",
    "        \n",
    "    else:\n",
    "        print('\\nThanks for playing!!')\n",
    "        break "
   ]
  },
  {
   "cell_type": "code",
   "execution_count": null,
   "metadata": {},
   "outputs": [],
   "source": []
  }
 ],
 "metadata": {
  "kernelspec": {
   "display_name": "Python 3",
   "language": "python",
   "name": "python3"
  },
  "language_info": {
   "codemirror_mode": {
    "name": "ipython",
    "version": 3
   },
   "file_extension": ".py",
   "mimetype": "text/x-python",
   "name": "python",
   "nbconvert_exporter": "python",
   "pygments_lexer": "ipython3",
   "version": "3.8.3"
  }
 },
 "nbformat": 4,
 "nbformat_minor": 4
}
